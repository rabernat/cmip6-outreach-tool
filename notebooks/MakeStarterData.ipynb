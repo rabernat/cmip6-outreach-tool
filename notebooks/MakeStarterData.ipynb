{
 "cells": [
  {
   "cell_type": "code",
   "execution_count": 1,
   "metadata": {},
   "outputs": [
    {
     "name": "stderr",
     "output_type": "stream",
     "text": [
      "/srv/conda/envs/notebook/lib/python3.7/site-packages/intake/source/discovery.py:136: FutureWarning: The drivers ['stac-catalog', 'stac-collection', 'stac-item'] do not specify entry_points and were only discovered via a package scan. This may break in a future release of intake. The packages should be updated.\n",
      "  FutureWarning)\n"
     ]
    }
   ],
   "source": [
    "%matplotlib inline\n",
    "\n",
    "import xarray as xr\n",
    "import intake\n",
    "import pandas as pd\n",
    "import xarray as xr\n",
    "\n",
    "# util.py is in the local directory\n",
    "# it contains code that is common across project notebooks\n",
    "# or routines that are too extensive and might otherwise clutter\n",
    "# the notebook design\n",
    "import util "
   ]
  },
  {
   "cell_type": "code",
   "execution_count": 2,
   "metadata": {},
   "outputs": [],
   "source": [
    "this_experiment_id = ['historical','ssp126', 'ssp245', 'ssp370', 'ssp585']\n",
    "this_variable_id = 'tas'\n",
    "this_table_id = 'Amon'\n",
    "this_grid_label='gn'"
   ]
  },
  {
   "cell_type": "code",
   "execution_count": 3,
   "metadata": {},
   "outputs": [],
   "source": [
    "def createDataDict():\n",
    "    if util.is_ncar_host():\n",
    "        col = intake.open_esm_datastore(\"../catalogs/glade-cmip6.json\")\n",
    "    else:\n",
    "        col = intake.open_esm_datastore(\"../catalogs/pangeo-cmip6.json\")\n",
    "    \n",
    "    cat = col.search(experiment_id=this_experiment_id, \\\n",
    "                     table_id=this_table_id, \\\n",
    "                     variable_id=this_variable_id, \\\n",
    "                     grid_label=this_grid_label)\n",
    "    dataset_info = cat.df\n",
    "    \n",
    "    dset_dict = cat.to_dataset_dict(zarr_kwargs={'consolidated': True, 'decode_times': False}, \n",
    "                                cdf_kwargs={'chunks': {}, 'decode_times': False})\n",
    "    #dset_dict.keys()\n",
    "    \n",
    "    source_ids = cat.df['source_id']\n",
    "    modelnames = list(set(source_ids))\n",
    "    \n",
    "    return dataset_info, dset_dict, modelnames"
   ]
  },
  {
   "cell_type": "code",
   "execution_count": 4,
   "metadata": {},
   "outputs": [
    {
     "name": "stdout",
     "output_type": "stream",
     "text": [
      "--> The keys in the returned dictionary of datasets are constructed as follows:\n",
      "\t'activity_id.institution_id.source_id.experiment_id.table_id.grid_label'\n",
      "\n",
      "--> There will be 60 group(s)\n"
     ]
    }
   ],
   "source": [
    "[dataset_info, dset_dict, modelnames]=createDataDict()"
   ]
  },
  {
   "cell_type": "code",
   "execution_count": 9,
   "metadata": {},
   "outputs": [],
   "source": [
    "modelname = 'CESM2'\n",
    "scenarios_for1model = dict()\n",
    "for expname in this_experiment_id:\n",
    "    if expname=='historical':\n",
    "        activity_id='CMIP'\n",
    "    else:\n",
    "        activity_id='ScenarioMIP'\n",
    "    dataset_info_subset = dataset_info[dataset_info['source_id']==modelname]\n",
    "    institution_id = list(set(dataset_info_subset['institution_id']))[0]\n",
    "    nametag = activity_id+'.'+institution_id+'.'+modelname+'.'+expname+'.'+this_table_id+'.'+this_grid_label\n",
    "    if nametag in dset_dict:\n",
    "        if nametag=='CMIP.UA.MCM-UA-1-0.historical.Amon.gn':\n",
    "            thisdata=dset_dict[nametag][this_variable_id].mean(dim=['latitude','longitude'])\n",
    "        else:\n",
    "            thisdata=dset_dict[nametag][this_variable_id].mean(dim=['lat','lon'])\n",
    "    else:\n",
    "        thisdata='No data'\n",
    "    scenarios_for1model[expname]=thisdata"
   ]
  },
  {
   "cell_type": "code",
   "execution_count": 10,
   "metadata": {},
   "outputs": [
    {
     "data": {
      "text/plain": [
       "{'historical': <xarray.DataArray 'tas' (member_id: 11, time: 3960)>\n",
       " dask.array<mean_agg-aggregate, shape=(11, 3960), dtype=float32, chunksize=(1, 950), chunktype=numpy.ndarray>\n",
       " Coordinates:\n",
       "   * time       (time) float64 0.0 708.0 1.416e+03 ... 1.444e+06 1.445e+06\n",
       "   * member_id  (member_id) <U9 'r10i1p1f1' 'r11i1p1f1' ... 'r8i1p1f1' 'r9i1p1f1',\n",
       " 'ssp126': <xarray.DataArray 'tas' (member_id: 1, time: 1032)>\n",
       " dask.array<mean_agg-aggregate, shape=(1, 1032), dtype=float32, chunksize=(1, 817), chunktype=numpy.ndarray>\n",
       " Coordinates:\n",
       "   * time       (time) int64 0 708 1416 2148 2880 ... 750420 751152 751884 752616\n",
       "   * member_id  (member_id) <U8 'r1i1p1f1',\n",
       " 'ssp245': <xarray.DataArray 'tas' (member_id: 1, time: 1032)>\n",
       " dask.array<mean_agg-aggregate, shape=(1, 1032), dtype=float32, chunksize=(1, 600), chunktype=numpy.ndarray>\n",
       " Coordinates:\n",
       "   * time       (time) int64 0 708 1416 2148 2880 ... 750420 751152 751884 752616\n",
       "   * member_id  (member_id) <U8 'r1i1p1f1',\n",
       " 'ssp370': <xarray.DataArray 'tas' (member_id: 2, time: 1032)>\n",
       " dask.array<mean_agg-aggregate, shape=(2, 1032), dtype=float32, chunksize=(1, 817), chunktype=numpy.ndarray>\n",
       " Coordinates:\n",
       "   * time       (time) int64 0 708 1416 2148 2880 ... 750420 751152 751884 752616\n",
       "   * member_id  (member_id) <U8 'r1i1p1f1' 'r2i1p1f1',\n",
       " 'ssp585': <xarray.DataArray 'tas' (member_id: 2, time: 1032)>\n",
       " dask.array<mean_agg-aggregate, shape=(2, 1032), dtype=float32, chunksize=(1, 600), chunktype=numpy.ndarray>\n",
       " Coordinates:\n",
       "   * time       (time) int64 0 708 1416 2148 2880 ... 750420 751152 751884 752616\n",
       "   * member_id  (member_id) <U8 'r1i1p1f1' 'r2i1p1f1'}"
      ]
     },
     "execution_count": 10,
     "metadata": {},
     "output_type": "execute_result"
    }
   ],
   "source": [
    "scenarios_for1model"
   ]
  }
 ],
 "metadata": {
  "kernelspec": {
   "display_name": "Python 3",
   "language": "python",
   "name": "python3"
  },
  "language_info": {
   "codemirror_mode": {
    "name": "ipython",
    "version": 3
   },
   "file_extension": ".py",
   "mimetype": "text/x-python",
   "name": "python",
   "nbconvert_exporter": "python",
   "pygments_lexer": "ipython3",
   "version": "3.7.3"
  }
 },
 "nbformat": 4,
 "nbformat_minor": 4
}
