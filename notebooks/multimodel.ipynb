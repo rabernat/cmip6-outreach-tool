{
 "cells": [
  {
   "cell_type": "markdown",
   "metadata": {},
   "source": [
    "### Multimodel stats"
   ]
  },
  {
   "cell_type": "markdown",
   "metadata": {},
   "source": [
    "For now: mean, max, min, standard deviation"
   ]
  },
  {
   "cell_type": "code",
   "execution_count": 2,
   "metadata": {},
   "outputs": [
    {
     "name": "stderr",
     "output_type": "stream",
     "text": [
      "/srv/conda/envs/notebook/lib/python3.7/site-packages/intake/source/discovery.py:136: FutureWarning: The drivers ['stac-catalog', 'stac-collection', 'stac-item'] do not specify entry_points and were only discovered via a package scan. This may break in a future release of intake. The packages should be updated.\n",
      "  FutureWarning)\n"
     ]
    }
   ],
   "source": [
    "%matplotlib inline\n",
    "\n",
    "import xarray as xr\n",
    "import intake\n",
    "import pandas as pd\n",
    "import xarray as xr\n",
    "import numpy as np\n",
    "import matplotlib.pyplot as plt\n",
    "\n",
    "# util.py is in the local directory\n",
    "# it contains code that is common across project notebooks\n",
    "# or routines that are too extensive and might otherwise clutter\n",
    "# the notebook design\n",
    "import util "
   ]
  },
  {
   "cell_type": "markdown",
   "metadata": {},
   "source": [
    "### FUNCTION INFO:\n",
    "\n",
    "Find mean, min, and max across a list of models over the globe (default; lat-lon averaged) or over a certain region (a lat-lon average)\n",
    "\n",
    "input: \n",
    "\n",
    "    models = list of the models with dimension (time, lon, lat) \n",
    "    \n",
    "    loc = [lonmin, lonmax, latmin, latmax] (assumes all if not given)\n",
    "    \n",
    "*** assumes all models have the same length of times and that the dimension is called \"time\" ***\n",
    "\n",
    "*** lat/lon are chosen using the nearest values in the dataset ***\n",
    "\n",
    "returns:\n",
    "    \n",
    "    mean [dimensions of time]\n",
    "    min [dimensions of time]\n",
    "    max [dimensions of time]\n"
   ]
  },
  {
   "cell_type": "code",
   "execution_count": 10,
   "metadata": {},
   "outputs": [],
   "source": [
    "def multimodel(models,loc=None):\n",
    "    \n",
    "    ntime = len(models[0].time)\n",
    "    nmod = len(models)\n",
    "    print('number time steps: ' + str(ntime))\n",
    "    print('number of models: ' + str(nmod))\n",
    "    \n",
    "    tempdata = np.empty((nmod,ntime))\n",
    "    \n",
    "    ### average the data over the lat-lon range you need:###\n",
    "    for m in range(nmod):\n",
    "        model = models[m]\n",
    "        \n",
    "        # global mean:\n",
    "        if loc == None:\n",
    "            tempdata[m,:] = model.mean(dim=['lat','lon'])\n",
    "            \n",
    "        # specific location:\n",
    "        else:\n",
    "            if len(loc) != 4:\n",
    "                raise Exception('Must enter location in the form [minlon, maxlon, minlat, maxlat]!')\n",
    "            lonmin = loc[0]\n",
    "            lonmax = loc[1]\n",
    "            latmin = loc[2]\n",
    "            latmax = loc[3]\n",
    "            \n",
    "            tempdata[m,:] = model.sel(lat=slice(latmin,latmax),method='nearest').sel(lon=slice(lonmin,lonmax),method='nearest').mean()\n",
    "     \n",
    "    \n",
    "    ### multimodel mean and spread:###        \n",
    "    mm_mean = np.nanmean(tempdata,axis=0)\n",
    "    mm_min = np.min(tempdata,axis=0)\n",
    "    mm_max = np.max(tempdta,axis=0)\n",
    "    \n",
    "    return [mm_mean,mm_min,mm_max]"
   ]
  },
  {
   "cell_type": "code",
   "execution_count": 11,
   "metadata": {},
   "outputs": [],
   "source": [
    "# data to test:"
   ]
  },
  {
   "cell_type": "code",
   "execution_count": null,
   "metadata": {},
   "outputs": [],
   "source": []
  }
 ],
 "metadata": {
  "kernelspec": {
   "display_name": "Python 3",
   "language": "python",
   "name": "python3"
  },
  "language_info": {
   "codemirror_mode": {
    "name": "ipython",
    "version": 3
   },
   "file_extension": ".py",
   "mimetype": "text/x-python",
   "name": "python",
   "nbconvert_exporter": "python",
   "pygments_lexer": "ipython3",
   "version": "3.7.3"
  }
 },
 "nbformat": 4,
 "nbformat_minor": 4
}
